{
 "cells": [
  {
   "cell_type": "code",
   "execution_count": 13,
   "id": "c3d3b015-7700-403f-b316-f5897723a53d",
   "metadata": {},
   "outputs": [],
   "source": [
    "from sklearn.feature_extraction.text import CountVectorizer, TfidfTransformer\n",
    "from sklearn.model_selection import train_test_split, GridSearchCV, StratifiedKFold\n",
    "from sklearn.naive_bayes import MultinomialNB\n",
    "from sklearn.svm import SVC, LinearSVC\n",
    "from sklearn.neural_network import MLPClassifier\n",
    "from sklearn.tree import DecisionTreeClassifier\n",
    "from sklearn.ensemble import RandomForestClassifier\n",
    "from sklearn.metrics import accuracy_score, precision_score, recall_score, f1_score, cohen_kappa_score, confusion_matrix\n",
    "import pandas as pd\n",
    "import pickle\n",
    "from sklearn.feature_extraction.text import CountVectorizer\n",
    "from sklearn.feature_extraction.text import TfidfTransformer\n",
    "from sklearn.model_selection import train_test_split\n",
    "import warnings\n",
    "warnings.filterwarnings(\"ignore\")"
   ]
  },
  {
   "cell_type": "code",
   "execution_count": 5,
   "id": "c02bd456-67b0-4d9e-bdb9-c225b584d461",
   "metadata": {},
   "outputs": [],
   "source": [
    "df = pd.read_csv(\"twitter_tweets.csv\", encoding='utf8')\n",
    "corpus = df['Tweet text'].apply(lambda x : str(x).lower()).tolist()\n",
    "y = df['Category']"
   ]
  },
  {
   "cell_type": "code",
   "execution_count": 6,
   "id": "6443730a-9d6c-427f-928d-4a808063ecd6",
   "metadata": {},
   "outputs": [],
   "source": [
    "count_vect = CountVectorizer()\n",
    "X_train_counts = count_vect.fit_transform(corpus)\n",
    "\n",
    "#зберегти ветори слів\n",
    "pickle.dump(count_vect.vocabulary_, open(\"feature.pkl\",\"wb\"))\n",
    "\n",
    "#перетворення векторів слів до TF IDF\n",
    "tfidf_transformer = TfidfTransformer()\n",
    "X = tfidf_transformer.fit_transform(X_train_counts)\n",
    "\n",
    "#зберегти TF-IDF\n",
    "pickle.dump(tfidf_transformer, open(\"tfidf.pkl\",\"wb\"))\n",
    "\n",
    "#розділити дані на зразки для навчання та тестування\n",
    "X_train, X_test, y_train, y_test = train_test_split(X, y, test_size=0.25, random_state=42)"
   ]
  },
  {
   "cell_type": "code",
   "execution_count": 7,
   "id": "34db993d-2247-40d3-86cc-bcca74581da2",
   "metadata": {},
   "outputs": [],
   "source": [
    "def evaluate_classifier(classifier, X_test, y_test):\n",
    "    y_pred = classifier.predict(X_test)\n",
    "    accuracy = accuracy_score(y_test, y_pred)\n",
    "    precision = precision_score(y_test, y_pred, average='weighted')\n",
    "    recall = recall_score(y_test, y_pred, average='weighted')\n",
    "    f1 = f1_score(y_test, y_pred, average='weighted')\n",
    "    kappa = cohen_kappa_score(y_test, y_pred)\n",
    "    cm = confusion_matrix(y_test, y_pred)\n",
    "    print(\"Accuracy:\", accuracy)\n",
    "    print(\"Precision:\", precision)\n",
    "    print(\"Recall:\", recall)\n",
    "    print(\"F1-Score:\", f1)\n",
    "    print(\"Cohen's Kappa:\", kappa)\n",
    "    print(\"Confusion Matrix:\")\n",
    "    print(cm)"
   ]
  },
  {
   "cell_type": "code",
   "execution_count": 8,
   "id": "df8057e3-54fb-429b-805f-94d1d3b92614",
   "metadata": {},
   "outputs": [
    {
     "name": "stdout",
     "output_type": "stream",
     "text": [
      "Multinomial Naive Bayes:\n",
      "Best parameters: {'alpha': 1.0}\n",
      "Accuracy: 0.7689075630252101\n",
      "Precision: 0.8341707578719617\n",
      "Recall: 0.7689075630252101\n",
      "F1-Score: 0.7638538836406742\n",
      "Cohen's Kappa: 0.7422835176626356\n",
      "Confusion Matrix:\n",
      "[[36  3  2  1  9  2  0  5  2  0]\n",
      " [ 0 35  0  0  2  0  0  7  0  0]\n",
      " [ 0  0 43  0  1  0  0  3  1  1]\n",
      " [ 0  2  0 31  5  0  0 11  2  1]\n",
      " [ 0  1  0  0 51  0  0  2  1  0]\n",
      " [ 0  1  0  0  0 49  0  3  2  1]\n",
      " [ 0  6  3  0  1  0  4 10  0  2]\n",
      " [ 0  0  0  0  1  1  0 41  0  0]\n",
      " [ 0  2  1  1  0  0  0  2 36  0]\n",
      " [ 0  1  0  0  1  0  0  6  1 40]]\n"
     ]
    }
   ],
   "source": [
    "# Навчання та класифікація з використанням Multinomial Naive Bayes\n",
    "nb_classifier = MultinomialNB()\n",
    "params_nb = {'alpha': [0.1, 0.5, 1.0]}\n",
    "skf = StratifiedKFold(n_splits=2, shuffle=True, random_state=42)\n",
    "grid_search_nb = GridSearchCV(nb_classifier, params_nb, cv=skf, scoring='accuracy')\n",
    "grid_search_nb.fit(X_train, y_train)\n",
    "best_params_nb = grid_search_nb.best_params_\n",
    "print(\"Multinomial Naive Bayes:\")\n",
    "print(\"Best parameters:\", best_params_nb)\n",
    "evaluate_classifier(grid_search_nb, X_test, y_test)"
   ]
  },
  {
   "cell_type": "code",
   "execution_count": 9,
   "id": "ce1c1e9f-0824-4492-9e6e-0c485cb9595b",
   "metadata": {},
   "outputs": [
    {
     "name": "stdout",
     "output_type": "stream",
     "text": [
      "\n",
      "Support Vector Machines:\n",
      "Best parameters: {'C': 10, 'gamma': 0.1, 'kernel': 'linear'}\n",
      "Accuracy: 0.9327731092436975\n",
      "Precision: 0.9361177949899383\n",
      "Recall: 0.9327731092436975\n",
      "F1-Score: 0.933138313922473\n",
      "Cohen's Kappa: 0.9250330982414867\n",
      "Confusion Matrix:\n",
      "[[53  2  0  0  3  0  0  2  0  0]\n",
      " [ 0 44  0  0  0  0  0  0  0  0]\n",
      " [ 2  0 46  0  0  0  0  1  0  0]\n",
      " [ 0  1  0 47  2  0  0  2  0  0]\n",
      " [ 1  1  3  0 48  0  0  2  0  0]\n",
      " [ 1  0  0  0  0 52  0  2  1  0]\n",
      " [ 0  0  0  0  1  0 25  0  0  0]\n",
      " [ 0  0  1  0  0  0  0 42  0  0]\n",
      " [ 0  1  0  2  1  0  0  0 38  0]\n",
      " [ 0  0  0  0  0  0  0  0  0 49]]\n"
     ]
    }
   ],
   "source": [
    "# Навчання та класифікація з використанням Support Vector Machines\n",
    "svm_classifier = SVC()\n",
    "params_svm = {'C': [0.1, 1, 10], 'gamma': [0.1, 0.01, 0.001], 'kernel': ['rbf', 'linear']}\n",
    "grid_search_svm = GridSearchCV(svm_classifier, params_svm, cv=skf, scoring='accuracy')\n",
    "grid_search_svm.fit(X_train, y_train)\n",
    "best_params_svm = grid_search_svm.best_params_\n",
    "print(\"\\nSupport Vector Machines:\")\n",
    "print(\"Best parameters:\", best_params_svm)\n",
    "evaluate_classifier(grid_search_svm, X_test, y_test)"
   ]
  },
  {
   "cell_type": "code",
   "execution_count": 7,
   "id": "5e2d2415-1782-4c2a-90c8-5c97dc7d272b",
   "metadata": {},
   "outputs": [
    {
     "name": "stdout",
     "output_type": "stream",
     "text": [
      "\n",
      "Random Forests:\n",
      "Best parameters: {'max_depth': None, 'min_samples_split': 5, 'n_estimators': 200}\n",
      "Accuracy: 0.9411764705882353\n",
      "Precision: 0.9442922015150668\n",
      "Recall: 0.9411764705882353\n",
      "F1-Score: 0.9414318240426863\n",
      "Cohen's Kappa: 0.9343823234014061\n",
      "Confusion Matrix:\n",
      "[[53  0  0  0  5  0  0  0  1  1]\n",
      " [ 0 42  0  0  1  0  0  0  0  1]\n",
      " [ 0  0 45  0  1  0  0  0  2  1]\n",
      " [ 1  1  0 46  2  0  0  0  1  1]\n",
      " [ 0  1  0  0 53  0  0  0  1  0]\n",
      " [ 0  0  0  0  0 56  0  0  0  0]\n",
      " [ 0  0  0  0  0  0 26  0  0  0]\n",
      " [ 0  0  0  0  0  2  0 41  0  0]\n",
      " [ 0  0  0  1  1  0  0  1 39  0]\n",
      " [ 0  1  1  0  0  0  0  0  0 47]]\n"
     ]
    }
   ],
   "source": [
    "# Навчання та класифікація з використанням Random Forests\n",
    "rf_classifier = RandomForestClassifier()\n",
    "params_rf = {'n_estimators': [50, 100, 200], 'max_depth': [None, 10, 20], 'min_samples_split': [2, 5, 10]}\n",
    "grid_search_rf = GridSearchCV(rf_classifier, params_rf, cv=skf, scoring='accuracy')\n",
    "grid_search_rf.fit(X_train, y_train)\n",
    "best_params_rf = grid_search_rf.best_params_\n",
    "print(\"\\nRandom Forests:\")\n",
    "print(\"Best parameters:\", best_params_rf)\n",
    "evaluate_classifier(grid_search_rf, X_test, y_test)"
   ]
  },
  {
   "cell_type": "code",
   "execution_count": 8,
   "id": "b12544c3-9d69-4e5f-bf80-7ee322f528b2",
   "metadata": {},
   "outputs": [
    {
     "name": "stdout",
     "output_type": "stream",
     "text": [
      "\n",
      "Decision Trees:\n",
      "Best parameters: {'max_depth': None, 'min_samples_split': 10}\n",
      "Accuracy: 0.9222689075630253\n",
      "Precision: 0.9254266384776296\n",
      "Recall: 0.9222689075630253\n",
      "F1-Score: 0.9224280415046797\n",
      "Cohen's Kappa: 0.9132482168893092\n",
      "Confusion Matrix:\n",
      "[[54  1  1  0  4  0  0  0  0  0]\n",
      " [ 0 42  0  0  2  0  0  0  0  0]\n",
      " [ 0  0 45  2  1  0  0  1  0  0]\n",
      " [ 1  1  1 45  4  0  0  0  0  0]\n",
      " [ 1  0  1  0 51  0  1  0  0  1]\n",
      " [ 0  0  1  0  0 55  0  0  0  0]\n",
      " [ 0  0  0  1  0  0 25  0  0  0]\n",
      " [ 1  0  0  0  1  0  0 41  0  0]\n",
      " [ 1  0  0  3  0  1  0  2 34  1]\n",
      " [ 0  1  1  0  0  0  0  0  0 47]]\n"
     ]
    }
   ],
   "source": [
    "# Навчання та класифікація з використанням Decision Trees\n",
    "dt_classifier = DecisionTreeClassifier()\n",
    "params_dt = {'max_depth': [None, 10, 20], 'min_samples_split': [2, 5, 10]}\n",
    "grid_search_dt = GridSearchCV(dt_classifier, params_dt, cv=skf, scoring='accuracy')\n",
    "grid_search_dt.fit(X_train, y_train)\n",
    "best_params_dt = grid_search_dt.best_params_\n",
    "print(\"\\nDecision Trees:\")\n",
    "print(\"Best parameters:\", best_params_dt)\n",
    "evaluate_classifier(grid_search_dt, X_test, y_test)"
   ]
  },
  {
   "cell_type": "code",
   "execution_count": 14,
   "id": "00506ec7-bf01-4d2a-96f8-0c8f8379ba81",
   "metadata": {},
   "outputs": [
    {
     "name": "stdout",
     "output_type": "stream",
     "text": [
      "\n",
      "Linear Support Vector Machines:\n",
      "Best parameters: {'C': 10}\n",
      "Accuracy: 0.9474789915966386\n",
      "Precision: 0.9490385097128281\n",
      "Recall: 0.9474789915966386\n",
      "F1-Score: 0.947448578417415\n",
      "Cohen's Kappa: 0.9414182686390824\n",
      "Confusion Matrix:\n",
      "[[52  2  1  1  3  0  0  1  0  0]\n",
      " [ 0 43  0  0  1  0  0  0  0  0]\n",
      " [ 2  1 46  0  0  0  0  0  0  0]\n",
      " [ 0  1  0 47  2  0  0  2  0  0]\n",
      " [ 0  1  0  0 53  0  0  0  1  0]\n",
      " [ 0  0  0  0  0 55  0  0  1  0]\n",
      " [ 0  0  0  0  1  0 25  0  0  0]\n",
      " [ 0  0  1  0  0  0  0 42  0  0]\n",
      " [ 0  0  1  2  0  0  0  0 39  0]\n",
      " [ 0  0  0  0  0  0  0  0  0 49]]\n"
     ]
    }
   ],
   "source": [
    "# Навчання та класифікація з використанням Linear Support Vector Machines\n",
    "\n",
    "linear_svm_classifier = LinearSVC()\n",
    "params_linear_svm = {'C': [0.1, 1, 10]}\n",
    "grid_search_linear_svm = GridSearchCV(linear_svm_classifier, params_linear_svm, cv=skf, scoring='accuracy')\n",
    "grid_search_linear_svm.fit(X_train, y_train)\n",
    "best_params_linear_svm = grid_search_linear_svm.best_params_\n",
    "print(\"\\nLinear Support Vector Machines:\")\n",
    "print(\"Best parameters:\", best_params_linear_svm)\n",
    "evaluate_classifier(grid_search_linear_svm, X_test, y_test)"
   ]
  },
  {
   "cell_type": "code",
   "execution_count": 11,
   "id": "85acd24b-1b29-4cbe-b5bb-e92d92733eab",
   "metadata": {},
   "outputs": [
    {
     "name": "stderr",
     "output_type": "stream",
     "text": [
      "C:\\Users\\Yuliia\\AppData\\Local\\Programs\\Python\\Python312\\Lib\\site-packages\\sklearn\\neural_network\\_multilayer_perceptron.py:691: ConvergenceWarning: Stochastic Optimizer: Maximum iterations (200) reached and the optimization hasn't converged yet.\n",
      "  warnings.warn(\n",
      "C:\\Users\\Yuliia\\AppData\\Local\\Programs\\Python\\Python312\\Lib\\site-packages\\sklearn\\neural_network\\_multilayer_perceptron.py:698: UserWarning: Training interrupted by user.\n",
      "  warnings.warn(\"Training interrupted by user.\")\n",
      "C:\\Users\\Yuliia\\AppData\\Local\\Programs\\Python\\Python312\\Lib\\site-packages\\sklearn\\neural_network\\_multilayer_perceptron.py:698: UserWarning: Training interrupted by user.\n",
      "  warnings.warn(\"Training interrupted by user.\")\n",
      "C:\\Users\\Yuliia\\AppData\\Local\\Programs\\Python\\Python312\\Lib\\site-packages\\sklearn\\neural_network\\_multilayer_perceptron.py:698: UserWarning: Training interrupted by user.\n",
      "  warnings.warn(\"Training interrupted by user.\")\n",
      "C:\\Users\\Yuliia\\AppData\\Local\\Programs\\Python\\Python312\\Lib\\site-packages\\sklearn\\neural_network\\_multilayer_perceptron.py:691: ConvergenceWarning: Stochastic Optimizer: Maximum iterations (200) reached and the optimization hasn't converged yet.\n",
      "  warnings.warn(\n",
      "C:\\Users\\Yuliia\\AppData\\Local\\Programs\\Python\\Python312\\Lib\\site-packages\\sklearn\\neural_network\\_multilayer_perceptron.py:691: ConvergenceWarning: Stochastic Optimizer: Maximum iterations (200) reached and the optimization hasn't converged yet.\n",
      "  warnings.warn(\n",
      "C:\\Users\\Yuliia\\AppData\\Local\\Programs\\Python\\Python312\\Lib\\site-packages\\sklearn\\neural_network\\_multilayer_perceptron.py:691: ConvergenceWarning: Stochastic Optimizer: Maximum iterations (200) reached and the optimization hasn't converged yet.\n",
      "  warnings.warn(\n",
      "C:\\Users\\Yuliia\\AppData\\Local\\Programs\\Python\\Python312\\Lib\\site-packages\\sklearn\\neural_network\\_multilayer_perceptron.py:691: ConvergenceWarning: Stochastic Optimizer: Maximum iterations (200) reached and the optimization hasn't converged yet.\n",
      "  warnings.warn(\n",
      "C:\\Users\\Yuliia\\AppData\\Local\\Programs\\Python\\Python312\\Lib\\site-packages\\sklearn\\neural_network\\_multilayer_perceptron.py:691: ConvergenceWarning: Stochastic Optimizer: Maximum iterations (200) reached and the optimization hasn't converged yet.\n",
      "  warnings.warn(\n"
     ]
    },
    {
     "name": "stdout",
     "output_type": "stream",
     "text": [
      "\n",
      "Neural Network with Softmax Layer:\n",
      "Best parameters: {'activation': 'relu', 'hidden_layer_sizes': (50,)}\n",
      "Accuracy: 0.7899159663865546\n",
      "Precision: 0.8038144935638695\n",
      "Recall: 0.7899159663865546\n",
      "F1-Score: 0.7889126085612518\n",
      "Cohen's Kappa: 0.7655022242803726\n",
      "Confusion Matrix:\n",
      "[[43  1  2  3  8  1  0  2  0  0]\n",
      " [ 2 27  0  2  3  0  1  3  0  6]\n",
      " [ 0  0 36  0  3  2  1  2  1  4]\n",
      " [ 0  1  0 39  5  1  0  2  3  1]\n",
      " [ 0  0  0  2 51  0  0  0  2  0]\n",
      " [ 2  0  0  0  2 50  0  0  1  1]\n",
      " [ 1  0  0  1  1  0 23  0  0  0]\n",
      " [ 0  0  4  4  2  1  0 27  2  3]\n",
      " [ 1  0  1  2  1  0  0  0 37  0]\n",
      " [ 0  0  0  1  1  0  0  3  1 43]]\n"
     ]
    }
   ],
   "source": [
    "# Навчання та класифікація з використанням Neural Network з Softmax Layer\n",
    "mlp_classifier = MLPClassifier()\n",
    "params_mlp = {'hidden_layer_sizes': [(100,), (50,), (100, 50)], 'activation': ['relu', 'tanh', 'logistic']}\n",
    "grid_search_mlp = GridSearchCV(mlp_classifier, params_mlp, cv=3, scoring='accuracy')\n",
    "grid_search_mlp.fit(X_train, y_train)\n",
    "best_params_mlp = grid_search_mlp.best_params_\n",
    "print(\"\\nNeural Network with Softmax Layer:\")\n",
    "print(\"Best parameters:\", best_params_mlp)\n",
    "evaluate_classifier(grid_search_mlp, X_test, y_test)"
   ]
  },
  {
   "cell_type": "code",
   "execution_count": null,
   "id": "983597ef-0911-4bae-801f-4cb608a2d895",
   "metadata": {},
   "outputs": [],
   "source": []
  }
 ],
 "metadata": {
  "kernelspec": {
   "display_name": "Python 3 (ipykernel)",
   "language": "python",
   "name": "python3"
  },
  "language_info": {
   "codemirror_mode": {
    "name": "ipython",
    "version": 3
   },
   "file_extension": ".py",
   "mimetype": "text/x-python",
   "name": "python",
   "nbconvert_exporter": "python",
   "pygments_lexer": "ipython3",
   "version": "3.12.2"
  }
 },
 "nbformat": 4,
 "nbformat_minor": 5
}
